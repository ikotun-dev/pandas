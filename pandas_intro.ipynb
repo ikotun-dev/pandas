{
 "cells": [
  {
   "cell_type": "code",
   "execution_count": 1,
   "id": "d2b1ebdf",
   "metadata": {},
   "outputs": [],
   "source": [
    "import pandas as pd"
   ]
  },
  {
   "cell_type": "code",
   "execution_count": 2,
   "id": "37b51640",
   "metadata": {},
   "outputs": [
    {
     "name": "stdout",
     "output_type": "stream",
     "text": [
      "1.5.3\n"
     ]
    }
   ],
   "source": [
    "#check pandas version\n",
    "print(pd.__version__)"
   ]
  },
  {
   "cell_type": "markdown",
   "id": "780eb27a",
   "metadata": {},
   "source": [
    "##### series in pandas \n",
    "##### create, manipulate, query, delete "
   ]
  },
  {
   "cell_type": "code",
   "execution_count": 3,
   "id": "c43ac118",
   "metadata": {},
   "outputs": [],
   "source": [
    "arr = [0,1,2,3,4]\n",
    "s1 = pd.Series(arr)"
   ]
  },
  {
   "cell_type": "code",
   "execution_count": 4,
   "id": "ed5ac236",
   "metadata": {},
   "outputs": [
    {
     "data": {
      "text/plain": [
       "0    0\n",
       "1    1\n",
       "2    2\n",
       "3    3\n",
       "4    4\n",
       "dtype: int64"
      ]
     },
     "execution_count": 4,
     "metadata": {},
     "output_type": "execute_result"
    }
   ],
   "source": [
    "s1"
   ]
  },
  {
   "cell_type": "code",
   "execution_count": 5,
   "id": "b0d9c275",
   "metadata": {},
   "outputs": [],
   "source": [
    "  import numpy as np\n",
    "n = np.random.randn(5) #create a random numpy array "
   ]
  },
  {
   "cell_type": "code",
   "execution_count": 7,
   "id": "89456b83",
   "metadata": {},
   "outputs": [],
   "source": [
    "index = ['a', 'b', 'c', 'd', 'e']"
   ]
  },
  {
   "cell_type": "code",
   "execution_count": 9,
   "id": "421914cc",
   "metadata": {},
   "outputs": [
    {
     "data": {
      "text/plain": [
       "a   -1.530338\n",
       "b    1.373018\n",
       "c   -1.402829\n",
       "d    1.221852\n",
       "e    2.190515\n",
       "dtype: float64"
      ]
     },
     "execution_count": 9,
     "metadata": {},
     "output_type": "execute_result"
    }
   ],
   "source": [
    "s2 = pd.Series(n, index=index)\n",
    "s2"
   ]
  },
  {
   "cell_type": "code",
   "execution_count": 10,
   "id": "afd08791",
   "metadata": {},
   "outputs": [],
   "source": [
    "#series from a dictionary\n",
    "d = {'a':1,'b':2,'c':3,'d':4,'e':5}"
   ]
  },
  {
   "cell_type": "code",
   "execution_count": 15,
   "id": "a2a4a65c",
   "metadata": {},
   "outputs": [
    {
     "data": {
      "text/plain": [
       "pandas.core.series.Series"
      ]
     },
     "execution_count": 15,
     "metadata": {},
     "output_type": "execute_result"
    }
   ],
   "source": [
    " s4 = pd.Series(d)\n",
    " type(s4)"
   ]
  },
  {
   "cell_type": "code",
   "execution_count": 18,
   "id": "edfa841a",
   "metadata": {},
   "outputs": [
    {
     "data": {
      "text/plain": [
       "a    1\n",
       "b    2\n",
       "c    3\n",
       "dtype: int64"
      ]
     },
     "execution_count": 18,
     "metadata": {},
     "output_type": "execute_result"
    }
   ],
   "source": [
    "#slicing \n",
    "s4[:-2]"
   ]
  },
  {
   "cell_type": "code",
   "execution_count": 24,
   "id": "07923a36",
   "metadata": {},
   "outputs": [],
   "source": [
    "arr = [0,1,2,3,4]\n",
    "s6 = arr.append(s4)"
   ]
  },
  {
   "cell_type": "code",
   "execution_count": 25,
   "id": "915e397d",
   "metadata": {},
   "outputs": [
    {
     "name": "stdout",
     "output_type": "stream",
     "text": [
      "None\n"
     ]
    }
   ],
   "source": [
    "print(s6)"
   ]
  },
  {
   "cell_type": "code",
   "execution_count": 29,
   "id": "e27e6960",
   "metadata": {},
   "outputs": [
    {
     "name": "stdout",
     "output_type": "stream",
     "text": [
      "median 3.0\n",
      "max 5\n"
     ]
    }
   ],
   "source": [
    "print('median',s4.median())\n",
    "print('max', s4.max())"
   ]
  },
  {
   "cell_type": "markdown",
   "id": "5248a950",
   "metadata": {},
   "source": [
    "##### creating a dataframe"
   ]
  },
  {
   "cell_type": "code",
   "execution_count": 41,
   "id": "41aa71c8",
   "metadata": {},
   "outputs": [],
   "source": [
    "dates = pd.date_range('today', periods=6) #pandas date\n",
    "num_array = np.random.randn(6,4)\n",
    "num_array_2 = num_array.astype('int32')\n",
    "columns = ['A', 'B', 'C', 'D']"
   ]
  },
  {
   "cell_type": "code",
   "execution_count": 42,
   "id": "d0fa1065",
   "metadata": {},
   "outputs": [],
   "source": [
    "#create dataframe\n",
    "df1 = pd.DataFrame(num_array, index=dates, columns=columns)"
   ]
  },
  {
   "cell_type": "code",
   "execution_count": 43,
   "id": "079ec475",
   "metadata": {},
   "outputs": [
    {
     "data": {
      "text/html": [
       "<div>\n",
       "<style scoped>\n",
       "    .dataframe tbody tr th:only-of-type {\n",
       "        vertical-align: middle;\n",
       "    }\n",
       "\n",
       "    .dataframe tbody tr th {\n",
       "        vertical-align: top;\n",
       "    }\n",
       "\n",
       "    .dataframe thead th {\n",
       "        text-align: right;\n",
       "    }\n",
       "</style>\n",
       "<table border=\"1\" class=\"dataframe\">\n",
       "  <thead>\n",
       "    <tr style=\"text-align: right;\">\n",
       "      <th></th>\n",
       "      <th>A</th>\n",
       "      <th>B</th>\n",
       "      <th>C</th>\n",
       "      <th>D</th>\n",
       "    </tr>\n",
       "  </thead>\n",
       "  <tbody>\n",
       "    <tr>\n",
       "      <th>2023-08-18 21:50:34.214875</th>\n",
       "      <td>0.192474</td>\n",
       "      <td>0.452427</td>\n",
       "      <td>0.863627</td>\n",
       "      <td>-1.464000</td>\n",
       "    </tr>\n",
       "    <tr>\n",
       "      <th>2023-08-19 21:50:34.214875</th>\n",
       "      <td>-0.440656</td>\n",
       "      <td>-0.116781</td>\n",
       "      <td>-0.682516</td>\n",
       "      <td>0.076852</td>\n",
       "    </tr>\n",
       "    <tr>\n",
       "      <th>2023-08-20 21:50:34.214875</th>\n",
       "      <td>-0.607798</td>\n",
       "      <td>-0.267647</td>\n",
       "      <td>-0.828164</td>\n",
       "      <td>-0.914946</td>\n",
       "    </tr>\n",
       "    <tr>\n",
       "      <th>2023-08-21 21:50:34.214875</th>\n",
       "      <td>-0.243717</td>\n",
       "      <td>-0.184601</td>\n",
       "      <td>1.108179</td>\n",
       "      <td>0.763748</td>\n",
       "    </tr>\n",
       "    <tr>\n",
       "      <th>2023-08-22 21:50:34.214875</th>\n",
       "      <td>-1.965855</td>\n",
       "      <td>1.208046</td>\n",
       "      <td>-0.993770</td>\n",
       "      <td>-1.447776</td>\n",
       "    </tr>\n",
       "    <tr>\n",
       "      <th>2023-08-23 21:50:34.214875</th>\n",
       "      <td>-0.789403</td>\n",
       "      <td>-0.259888</td>\n",
       "      <td>-1.109478</td>\n",
       "      <td>0.025464</td>\n",
       "    </tr>\n",
       "  </tbody>\n",
       "</table>\n",
       "</div>"
      ],
      "text/plain": [
       "                                   A         B         C         D\n",
       "2023-08-18 21:50:34.214875  0.192474  0.452427  0.863627 -1.464000\n",
       "2023-08-19 21:50:34.214875 -0.440656 -0.116781 -0.682516  0.076852\n",
       "2023-08-20 21:50:34.214875 -0.607798 -0.267647 -0.828164 -0.914946\n",
       "2023-08-21 21:50:34.214875 -0.243717 -0.184601  1.108179  0.763748\n",
       "2023-08-22 21:50:34.214875 -1.965855  1.208046 -0.993770 -1.447776\n",
       "2023-08-23 21:50:34.214875 -0.789403 -0.259888 -1.109478  0.025464"
      ]
     },
     "execution_count": 43,
     "metadata": {},
     "output_type": "execute_result"
    }
   ],
   "source": [
    "df1"
   ]
  },
  {
   "cell_type": "code",
   "execution_count": 95,
   "id": "bad140e2",
   "metadata": {},
   "outputs": [],
   "source": [
    "import numpy as np\n",
    "data = {'langauges' : ['python', 'java', 'R','javascript','c++', 'bash', 'vimscript'],\n",
    "       'rating' : [5,3,4, np.nan, 5,3,4],\n",
    "       'use-case' : ['ML', 'Fintech', 'Webapps', 'IOT', np.nan, 'Systems', 'CLI']}\n",
    "indexes = [1,2,3,4,5,6,7]\n",
    "df2 = pd.DataFrame(data, index=indexes)"
   ]
  },
  {
   "cell_type": "code",
   "execution_count": 96,
   "id": "ffb9e612",
   "metadata": {},
   "outputs": [
    {
     "data": {
      "text/html": [
       "<div>\n",
       "<style scoped>\n",
       "    .dataframe tbody tr th:only-of-type {\n",
       "        vertical-align: middle;\n",
       "    }\n",
       "\n",
       "    .dataframe tbody tr th {\n",
       "        vertical-align: top;\n",
       "    }\n",
       "\n",
       "    .dataframe thead th {\n",
       "        text-align: right;\n",
       "    }\n",
       "</style>\n",
       "<table border=\"1\" class=\"dataframe\">\n",
       "  <thead>\n",
       "    <tr style=\"text-align: right;\">\n",
       "      <th></th>\n",
       "      <th>langauges</th>\n",
       "      <th>rating</th>\n",
       "      <th>use-case</th>\n",
       "    </tr>\n",
       "  </thead>\n",
       "  <tbody>\n",
       "    <tr>\n",
       "      <th>1</th>\n",
       "      <td>python</td>\n",
       "      <td>5.0</td>\n",
       "      <td>ML</td>\n",
       "    </tr>\n",
       "    <tr>\n",
       "      <th>2</th>\n",
       "      <td>java</td>\n",
       "      <td>3.0</td>\n",
       "      <td>Fintech</td>\n",
       "    </tr>\n",
       "    <tr>\n",
       "      <th>3</th>\n",
       "      <td>R</td>\n",
       "      <td>4.0</td>\n",
       "      <td>Webapps</td>\n",
       "    </tr>\n",
       "    <tr>\n",
       "      <th>4</th>\n",
       "      <td>javascript</td>\n",
       "      <td>NaN</td>\n",
       "      <td>IOT</td>\n",
       "    </tr>\n",
       "    <tr>\n",
       "      <th>5</th>\n",
       "      <td>c++</td>\n",
       "      <td>5.0</td>\n",
       "      <td>NaN</td>\n",
       "    </tr>\n",
       "    <tr>\n",
       "      <th>6</th>\n",
       "      <td>bash</td>\n",
       "      <td>3.0</td>\n",
       "      <td>Systems</td>\n",
       "    </tr>\n",
       "    <tr>\n",
       "      <th>7</th>\n",
       "      <td>vimscript</td>\n",
       "      <td>4.0</td>\n",
       "      <td>CLI</td>\n",
       "    </tr>\n",
       "  </tbody>\n",
       "</table>\n",
       "</div>"
      ],
      "text/plain": [
       "    langauges  rating use-case\n",
       "1      python     5.0       ML\n",
       "2        java     3.0  Fintech\n",
       "3           R     4.0  Webapps\n",
       "4  javascript     NaN      IOT\n",
       "5         c++     5.0      NaN\n",
       "6        bash     3.0  Systems\n",
       "7   vimscript     4.0      CLI"
      ]
     },
     "execution_count": 96,
     "metadata": {},
     "output_type": "execute_result"
    }
   ],
   "source": [
    "df2"
   ]
  },
  {
   "cell_type": "code",
   "execution_count": 97,
   "id": "5d4cbf87",
   "metadata": {},
   "outputs": [
    {
     "data": {
      "text/plain": [
       "langauges     object\n",
       "rating       float64\n",
       "use-case      object\n",
       "dtype: object"
      ]
     },
     "execution_count": 97,
     "metadata": {},
     "output_type": "execute_result"
    }
   ],
   "source": [
    "#return datatypes\n",
    "df2.dtypes"
   ]
  },
  {
   "cell_type": "code",
   "execution_count": 98,
   "id": "27fe4baf",
   "metadata": {},
   "outputs": [
    {
     "data": {
      "text/html": [
       "<div>\n",
       "<style scoped>\n",
       "    .dataframe tbody tr th:only-of-type {\n",
       "        vertical-align: middle;\n",
       "    }\n",
       "\n",
       "    .dataframe tbody tr th {\n",
       "        vertical-align: top;\n",
       "    }\n",
       "\n",
       "    .dataframe thead th {\n",
       "        text-align: right;\n",
       "    }\n",
       "</style>\n",
       "<table border=\"1\" class=\"dataframe\">\n",
       "  <thead>\n",
       "    <tr style=\"text-align: right;\">\n",
       "      <th></th>\n",
       "      <th>langauges</th>\n",
       "      <th>rating</th>\n",
       "      <th>use-case</th>\n",
       "    </tr>\n",
       "  </thead>\n",
       "  <tbody>\n",
       "    <tr>\n",
       "      <th>1</th>\n",
       "      <td>python</td>\n",
       "      <td>5.0</td>\n",
       "      <td>ML</td>\n",
       "    </tr>\n",
       "    <tr>\n",
       "      <th>2</th>\n",
       "      <td>java</td>\n",
       "      <td>3.0</td>\n",
       "      <td>Fintech</td>\n",
       "    </tr>\n",
       "    <tr>\n",
       "      <th>3</th>\n",
       "      <td>R</td>\n",
       "      <td>4.0</td>\n",
       "      <td>Webapps</td>\n",
       "    </tr>\n",
       "    <tr>\n",
       "      <th>4</th>\n",
       "      <td>javascript</td>\n",
       "      <td>NaN</td>\n",
       "      <td>IOT</td>\n",
       "    </tr>\n",
       "    <tr>\n",
       "      <th>5</th>\n",
       "      <td>c++</td>\n",
       "      <td>5.0</td>\n",
       "      <td>NaN</td>\n",
       "    </tr>\n",
       "  </tbody>\n",
       "</table>\n",
       "</div>"
      ],
      "text/plain": [
       "    langauges  rating use-case\n",
       "1      python     5.0       ML\n",
       "2        java     3.0  Fintech\n",
       "3           R     4.0  Webapps\n",
       "4  javascript     NaN      IOT\n",
       "5         c++     5.0      NaN"
      ]
     },
     "execution_count": 98,
     "metadata": {},
     "output_type": "execute_result"
    }
   ],
   "source": [
    "#return head of data\n",
    "df2.head()"
   ]
  },
  {
   "cell_type": "code",
   "execution_count": 99,
   "id": "4d5ea1d2",
   "metadata": {},
   "outputs": [
    {
     "data": {
      "text/plain": [
       "Int64Index([1, 2, 3, 4, 5, 6, 7], dtype='int64')"
      ]
     },
     "execution_count": 99,
     "metadata": {},
     "output_type": "execute_result"
    }
   ],
   "source": [
    "df2.index"
   ]
  },
  {
   "cell_type": "code",
   "execution_count": 100,
   "id": "e518b0b1",
   "metadata": {},
   "outputs": [
    {
     "data": {
      "text/plain": [
       "Index(['langauges', 'rating', 'use-case'], dtype='object')"
      ]
     },
     "execution_count": 100,
     "metadata": {},
     "output_type": "execute_result"
    }
   ],
   "source": [
    "df2.columns"
   ]
  },
  {
   "cell_type": "code",
   "execution_count": 101,
   "id": "dd787d46",
   "metadata": {},
   "outputs": [
    {
     "data": {
      "text/plain": [
       "array([['python', 5.0, 'ML'],\n",
       "       ['java', 3.0, 'Fintech'],\n",
       "       ['R', 4.0, 'Webapps'],\n",
       "       ['javascript', nan, 'IOT'],\n",
       "       ['c++', 5.0, nan],\n",
       "       ['bash', 3.0, 'Systems'],\n",
       "       ['vimscript', 4.0, 'CLI']], dtype=object)"
      ]
     },
     "execution_count": 101,
     "metadata": {},
     "output_type": "execute_result"
    }
   ],
   "source": [
    "df2.values"
   ]
  },
  {
   "cell_type": "code",
   "execution_count": 102,
   "id": "3689bb4b",
   "metadata": {},
   "outputs": [
    {
     "data": {
      "text/html": [
       "<div>\n",
       "<style scoped>\n",
       "    .dataframe tbody tr th:only-of-type {\n",
       "        vertical-align: middle;\n",
       "    }\n",
       "\n",
       "    .dataframe tbody tr th {\n",
       "        vertical-align: top;\n",
       "    }\n",
       "\n",
       "    .dataframe thead th {\n",
       "        text-align: right;\n",
       "    }\n",
       "</style>\n",
       "<table border=\"1\" class=\"dataframe\">\n",
       "  <thead>\n",
       "    <tr style=\"text-align: right;\">\n",
       "      <th></th>\n",
       "      <th>rating</th>\n",
       "    </tr>\n",
       "  </thead>\n",
       "  <tbody>\n",
       "    <tr>\n",
       "      <th>count</th>\n",
       "      <td>6.000000</td>\n",
       "    </tr>\n",
       "    <tr>\n",
       "      <th>mean</th>\n",
       "      <td>4.000000</td>\n",
       "    </tr>\n",
       "    <tr>\n",
       "      <th>std</th>\n",
       "      <td>0.894427</td>\n",
       "    </tr>\n",
       "    <tr>\n",
       "      <th>min</th>\n",
       "      <td>3.000000</td>\n",
       "    </tr>\n",
       "    <tr>\n",
       "      <th>25%</th>\n",
       "      <td>3.250000</td>\n",
       "    </tr>\n",
       "    <tr>\n",
       "      <th>50%</th>\n",
       "      <td>4.000000</td>\n",
       "    </tr>\n",
       "    <tr>\n",
       "      <th>75%</th>\n",
       "      <td>4.750000</td>\n",
       "    </tr>\n",
       "    <tr>\n",
       "      <th>max</th>\n",
       "      <td>5.000000</td>\n",
       "    </tr>\n",
       "  </tbody>\n",
       "</table>\n",
       "</div>"
      ],
      "text/plain": [
       "         rating\n",
       "count  6.000000\n",
       "mean   4.000000\n",
       "std    0.894427\n",
       "min    3.000000\n",
       "25%    3.250000\n",
       "50%    4.000000\n",
       "75%    4.750000\n",
       "max    5.000000"
      ]
     },
     "execution_count": 102,
     "metadata": {},
     "output_type": "execute_result"
    }
   ],
   "source": [
    "df2.describe()"
   ]
  },
  {
   "cell_type": "code",
   "execution_count": 103,
   "id": "9a02e307",
   "metadata": {},
   "outputs": [
    {
     "data": {
      "text/html": [
       "<div>\n",
       "<style scoped>\n",
       "    .dataframe tbody tr th:only-of-type {\n",
       "        vertical-align: middle;\n",
       "    }\n",
       "\n",
       "    .dataframe tbody tr th {\n",
       "        vertical-align: top;\n",
       "    }\n",
       "\n",
       "    .dataframe thead th {\n",
       "        text-align: right;\n",
       "    }\n",
       "</style>\n",
       "<table border=\"1\" class=\"dataframe\">\n",
       "  <thead>\n",
       "    <tr style=\"text-align: right;\">\n",
       "      <th></th>\n",
       "      <th>1</th>\n",
       "      <th>2</th>\n",
       "      <th>3</th>\n",
       "      <th>4</th>\n",
       "      <th>5</th>\n",
       "      <th>6</th>\n",
       "      <th>7</th>\n",
       "    </tr>\n",
       "  </thead>\n",
       "  <tbody>\n",
       "    <tr>\n",
       "      <th>langauges</th>\n",
       "      <td>python</td>\n",
       "      <td>java</td>\n",
       "      <td>R</td>\n",
       "      <td>javascript</td>\n",
       "      <td>c++</td>\n",
       "      <td>bash</td>\n",
       "      <td>vimscript</td>\n",
       "    </tr>\n",
       "    <tr>\n",
       "      <th>rating</th>\n",
       "      <td>5.0</td>\n",
       "      <td>3.0</td>\n",
       "      <td>4.0</td>\n",
       "      <td>NaN</td>\n",
       "      <td>5.0</td>\n",
       "      <td>3.0</td>\n",
       "      <td>4.0</td>\n",
       "    </tr>\n",
       "    <tr>\n",
       "      <th>use-case</th>\n",
       "      <td>ML</td>\n",
       "      <td>Fintech</td>\n",
       "      <td>Webapps</td>\n",
       "      <td>IOT</td>\n",
       "      <td>NaN</td>\n",
       "      <td>Systems</td>\n",
       "      <td>CLI</td>\n",
       "    </tr>\n",
       "  </tbody>\n",
       "</table>\n",
       "</div>"
      ],
      "text/plain": [
       "                1        2        3           4    5        6          7\n",
       "langauges  python     java        R  javascript  c++     bash  vimscript\n",
       "rating        5.0      3.0      4.0         NaN  5.0      3.0        4.0\n",
       "use-case       ML  Fintech  Webapps         IOT  NaN  Systems        CLI"
      ]
     },
     "execution_count": 103,
     "metadata": {},
     "output_type": "execute_result"
    }
   ],
   "source": [
    "#Transposing \n",
    "df2.T"
   ]
  },
  {
   "cell_type": "code",
   "execution_count": 104,
   "id": "8829c79e",
   "metadata": {},
   "outputs": [
    {
     "data": {
      "text/html": [
       "<div>\n",
       "<style scoped>\n",
       "    .dataframe tbody tr th:only-of-type {\n",
       "        vertical-align: middle;\n",
       "    }\n",
       "\n",
       "    .dataframe tbody tr th {\n",
       "        vertical-align: top;\n",
       "    }\n",
       "\n",
       "    .dataframe thead th {\n",
       "        text-align: right;\n",
       "    }\n",
       "</style>\n",
       "<table border=\"1\" class=\"dataframe\">\n",
       "  <thead>\n",
       "    <tr style=\"text-align: right;\">\n",
       "      <th></th>\n",
       "      <th>langauges</th>\n",
       "      <th>rating</th>\n",
       "      <th>use-case</th>\n",
       "    </tr>\n",
       "  </thead>\n",
       "  <tbody>\n",
       "    <tr>\n",
       "      <th>2</th>\n",
       "      <td>java</td>\n",
       "      <td>3.0</td>\n",
       "      <td>Fintech</td>\n",
       "    </tr>\n",
       "    <tr>\n",
       "      <th>6</th>\n",
       "      <td>bash</td>\n",
       "      <td>3.0</td>\n",
       "      <td>Systems</td>\n",
       "    </tr>\n",
       "    <tr>\n",
       "      <th>3</th>\n",
       "      <td>R</td>\n",
       "      <td>4.0</td>\n",
       "      <td>Webapps</td>\n",
       "    </tr>\n",
       "    <tr>\n",
       "      <th>7</th>\n",
       "      <td>vimscript</td>\n",
       "      <td>4.0</td>\n",
       "      <td>CLI</td>\n",
       "    </tr>\n",
       "    <tr>\n",
       "      <th>1</th>\n",
       "      <td>python</td>\n",
       "      <td>5.0</td>\n",
       "      <td>ML</td>\n",
       "    </tr>\n",
       "    <tr>\n",
       "      <th>5</th>\n",
       "      <td>c++</td>\n",
       "      <td>5.0</td>\n",
       "      <td>NaN</td>\n",
       "    </tr>\n",
       "    <tr>\n",
       "      <th>4</th>\n",
       "      <td>javascript</td>\n",
       "      <td>NaN</td>\n",
       "      <td>IOT</td>\n",
       "    </tr>\n",
       "  </tbody>\n",
       "</table>\n",
       "</div>"
      ],
      "text/plain": [
       "    langauges  rating use-case\n",
       "2        java     3.0  Fintech\n",
       "6        bash     3.0  Systems\n",
       "3           R     4.0  Webapps\n",
       "7   vimscript     4.0      CLI\n",
       "1      python     5.0       ML\n",
       "5         c++     5.0      NaN\n",
       "4  javascript     NaN      IOT"
      ]
     },
     "execution_count": 104,
     "metadata": {},
     "output_type": "execute_result"
    }
   ],
   "source": [
    "#sorting_values \n",
    "df2.sort_values(by='rating')"
   ]
  },
  {
   "cell_type": "code",
   "execution_count": 105,
   "id": "9a8f9bb7",
   "metadata": {},
   "outputs": [
    {
     "data": {
      "text/html": [
       "<div>\n",
       "<style scoped>\n",
       "    .dataframe tbody tr th:only-of-type {\n",
       "        vertical-align: middle;\n",
       "    }\n",
       "\n",
       "    .dataframe tbody tr th {\n",
       "        vertical-align: top;\n",
       "    }\n",
       "\n",
       "    .dataframe thead th {\n",
       "        text-align: right;\n",
       "    }\n",
       "</style>\n",
       "<table border=\"1\" class=\"dataframe\">\n",
       "  <thead>\n",
       "    <tr style=\"text-align: right;\">\n",
       "      <th></th>\n",
       "      <th>langauges</th>\n",
       "      <th>rating</th>\n",
       "      <th>use-case</th>\n",
       "    </tr>\n",
       "  </thead>\n",
       "  <tbody>\n",
       "    <tr>\n",
       "      <th>3</th>\n",
       "      <td>R</td>\n",
       "      <td>4.0</td>\n",
       "      <td>Webapps</td>\n",
       "    </tr>\n",
       "    <tr>\n",
       "      <th>4</th>\n",
       "      <td>javascript</td>\n",
       "      <td>NaN</td>\n",
       "      <td>IOT</td>\n",
       "    </tr>\n",
       "  </tbody>\n",
       "</table>\n",
       "</div>"
      ],
      "text/plain": [
       "    langauges  rating use-case\n",
       "3           R     4.0  Webapps\n",
       "4  javascript     NaN      IOT"
      ]
     },
     "execution_count": 105,
     "metadata": {},
     "output_type": "execute_result"
    }
   ],
   "source": [
    "#slicing dataframe \n",
    "df2[2:4]"
   ]
  },
  {
   "cell_type": "code",
   "execution_count": 106,
   "id": "8fb92911",
   "metadata": {},
   "outputs": [
    {
     "data": {
      "text/plain": [
       "1    5.0\n",
       "2    3.0\n",
       "3    4.0\n",
       "4    NaN\n",
       "5    5.0\n",
       "6    3.0\n",
       "7    4.0\n",
       "Name: rating, dtype: float64"
      ]
     },
     "execution_count": 106,
     "metadata": {},
     "output_type": "execute_result"
    }
   ],
   "source": [
    "#query dataframe by tag\n",
    "df2['rating']"
   ]
  },
  {
   "cell_type": "code",
   "execution_count": 107,
   "id": "677ce096",
   "metadata": {},
   "outputs": [],
   "source": [
    "#copy\n",
    "df3 = df2.copy()"
   ]
  },
  {
   "cell_type": "code",
   "execution_count": 108,
   "id": "ac17f066",
   "metadata": {},
   "outputs": [
    {
     "data": {
      "text/html": [
       "<div>\n",
       "<style scoped>\n",
       "    .dataframe tbody tr th:only-of-type {\n",
       "        vertical-align: middle;\n",
       "    }\n",
       "\n",
       "    .dataframe tbody tr th {\n",
       "        vertical-align: top;\n",
       "    }\n",
       "\n",
       "    .dataframe thead th {\n",
       "        text-align: right;\n",
       "    }\n",
       "</style>\n",
       "<table border=\"1\" class=\"dataframe\">\n",
       "  <thead>\n",
       "    <tr style=\"text-align: right;\">\n",
       "      <th></th>\n",
       "      <th>langauges</th>\n",
       "      <th>rating</th>\n",
       "      <th>use-case</th>\n",
       "    </tr>\n",
       "  </thead>\n",
       "  <tbody>\n",
       "    <tr>\n",
       "      <th>1</th>\n",
       "      <td>False</td>\n",
       "      <td>False</td>\n",
       "      <td>False</td>\n",
       "    </tr>\n",
       "    <tr>\n",
       "      <th>2</th>\n",
       "      <td>False</td>\n",
       "      <td>False</td>\n",
       "      <td>False</td>\n",
       "    </tr>\n",
       "    <tr>\n",
       "      <th>3</th>\n",
       "      <td>False</td>\n",
       "      <td>False</td>\n",
       "      <td>False</td>\n",
       "    </tr>\n",
       "    <tr>\n",
       "      <th>4</th>\n",
       "      <td>False</td>\n",
       "      <td>True</td>\n",
       "      <td>False</td>\n",
       "    </tr>\n",
       "    <tr>\n",
       "      <th>5</th>\n",
       "      <td>False</td>\n",
       "      <td>False</td>\n",
       "      <td>True</td>\n",
       "    </tr>\n",
       "    <tr>\n",
       "      <th>6</th>\n",
       "      <td>False</td>\n",
       "      <td>False</td>\n",
       "      <td>False</td>\n",
       "    </tr>\n",
       "    <tr>\n",
       "      <th>7</th>\n",
       "      <td>False</td>\n",
       "      <td>False</td>\n",
       "      <td>False</td>\n",
       "    </tr>\n",
       "  </tbody>\n",
       "</table>\n",
       "</div>"
      ],
      "text/plain": [
       "   langauges  rating  use-case\n",
       "1      False   False     False\n",
       "2      False   False     False\n",
       "3      False   False     False\n",
       "4      False    True     False\n",
       "5      False   False      True\n",
       "6      False   False     False\n",
       "7      False   False     False"
      ]
     },
     "execution_count": 108,
     "metadata": {},
     "output_type": "execute_result"
    }
   ],
   "source": [
    "df3.isnull()"
   ]
  },
  {
   "cell_type": "code",
   "execution_count": 109,
   "id": "296f3871",
   "metadata": {},
   "outputs": [
    {
     "data": {
      "text/html": [
       "<div>\n",
       "<style scoped>\n",
       "    .dataframe tbody tr th:only-of-type {\n",
       "        vertical-align: middle;\n",
       "    }\n",
       "\n",
       "    .dataframe tbody tr th {\n",
       "        vertical-align: top;\n",
       "    }\n",
       "\n",
       "    .dataframe thead th {\n",
       "        text-align: right;\n",
       "    }\n",
       "</style>\n",
       "<table border=\"1\" class=\"dataframe\">\n",
       "  <thead>\n",
       "    <tr style=\"text-align: right;\">\n",
       "      <th></th>\n",
       "      <th>langauges</th>\n",
       "      <th>rating</th>\n",
       "      <th>use-case</th>\n",
       "    </tr>\n",
       "  </thead>\n",
       "  <tbody>\n",
       "    <tr>\n",
       "      <th>1</th>\n",
       "      <td>python</td>\n",
       "      <td>5.0</td>\n",
       "      <td>ML</td>\n",
       "    </tr>\n",
       "    <tr>\n",
       "      <th>2</th>\n",
       "      <td>java</td>\n",
       "      <td>3.0</td>\n",
       "      <td>Fintech</td>\n",
       "    </tr>\n",
       "    <tr>\n",
       "      <th>3</th>\n",
       "      <td>R</td>\n",
       "      <td>4.0</td>\n",
       "      <td>Webapps</td>\n",
       "    </tr>\n",
       "    <tr>\n",
       "      <th>4</th>\n",
       "      <td>javascript</td>\n",
       "      <td>NaN</td>\n",
       "      <td>IOT</td>\n",
       "    </tr>\n",
       "    <tr>\n",
       "      <th>5</th>\n",
       "      <td>c++</td>\n",
       "      <td>5.0</td>\n",
       "      <td>NaN</td>\n",
       "    </tr>\n",
       "    <tr>\n",
       "      <th>6</th>\n",
       "      <td>bash</td>\n",
       "      <td>3.0</td>\n",
       "      <td>Systems</td>\n",
       "    </tr>\n",
       "    <tr>\n",
       "      <th>7</th>\n",
       "      <td>vimscript</td>\n",
       "      <td>4.0</td>\n",
       "      <td>CLI</td>\n",
       "    </tr>\n",
       "  </tbody>\n",
       "</table>\n",
       "</div>"
      ],
      "text/plain": [
       "    langauges  rating use-case\n",
       "1      python     5.0       ML\n",
       "2        java     3.0  Fintech\n",
       "3           R     4.0  Webapps\n",
       "4  javascript     NaN      IOT\n",
       "5         c++     5.0      NaN\n",
       "6        bash     3.0  Systems\n",
       "7   vimscript     4.0      CLI"
      ]
     },
     "execution_count": 109,
     "metadata": {},
     "output_type": "execute_result"
    }
   ],
   "source": [
    "df3"
   ]
  },
  {
   "cell_type": "code",
   "execution_count": 110,
   "id": "a4f12655",
   "metadata": {},
   "outputs": [],
   "source": [
    "#edit a particular data by location\n",
    "df3.loc['4', 'rating'] = 3"
   ]
  },
  {
   "cell_type": "code",
   "execution_count": 111,
   "id": "bb15e387",
   "metadata": {},
   "outputs": [
    {
     "data": {
      "text/plain": [
       "rating    3.857143\n",
       "dtype: float64"
      ]
     },
     "execution_count": 111,
     "metadata": {},
     "output_type": "execute_result"
    }
   ],
   "source": [
    "df3[['rating']].mean()"
   ]
  },
  {
   "cell_type": "markdown",
   "id": "d9a79d83",
   "metadata": {},
   "source": [
    "#### Operations on missing Data in a dataFrame"
   ]
  },
  {
   "cell_type": "code",
   "execution_count": 112,
   "id": "7e09473d",
   "metadata": {},
   "outputs": [],
   "source": [
    "df4 = df3.copy()"
   ]
  },
  {
   "cell_type": "code",
   "execution_count": 113,
   "id": "b092fb33",
   "metadata": {},
   "outputs": [
    {
     "data": {
      "text/html": [
       "<div>\n",
       "<style scoped>\n",
       "    .dataframe tbody tr th:only-of-type {\n",
       "        vertical-align: middle;\n",
       "    }\n",
       "\n",
       "    .dataframe tbody tr th {\n",
       "        vertical-align: top;\n",
       "    }\n",
       "\n",
       "    .dataframe thead th {\n",
       "        text-align: right;\n",
       "    }\n",
       "</style>\n",
       "<table border=\"1\" class=\"dataframe\">\n",
       "  <thead>\n",
       "    <tr style=\"text-align: right;\">\n",
       "      <th></th>\n",
       "      <th>langauges</th>\n",
       "      <th>rating</th>\n",
       "      <th>use-case</th>\n",
       "    </tr>\n",
       "  </thead>\n",
       "  <tbody>\n",
       "    <tr>\n",
       "      <th>1</th>\n",
       "      <td>python</td>\n",
       "      <td>5.0</td>\n",
       "      <td>ML</td>\n",
       "    </tr>\n",
       "    <tr>\n",
       "      <th>2</th>\n",
       "      <td>java</td>\n",
       "      <td>3.0</td>\n",
       "      <td>Fintech</td>\n",
       "    </tr>\n",
       "    <tr>\n",
       "      <th>3</th>\n",
       "      <td>R</td>\n",
       "      <td>4.0</td>\n",
       "      <td>Webapps</td>\n",
       "    </tr>\n",
       "    <tr>\n",
       "      <th>4</th>\n",
       "      <td>javascript</td>\n",
       "      <td>NaN</td>\n",
       "      <td>IOT</td>\n",
       "    </tr>\n",
       "    <tr>\n",
       "      <th>5</th>\n",
       "      <td>c++</td>\n",
       "      <td>5.0</td>\n",
       "      <td>NaN</td>\n",
       "    </tr>\n",
       "    <tr>\n",
       "      <th>6</th>\n",
       "      <td>bash</td>\n",
       "      <td>3.0</td>\n",
       "      <td>Systems</td>\n",
       "    </tr>\n",
       "    <tr>\n",
       "      <th>7</th>\n",
       "      <td>vimscript</td>\n",
       "      <td>4.0</td>\n",
       "      <td>CLI</td>\n",
       "    </tr>\n",
       "    <tr>\n",
       "      <th>4</th>\n",
       "      <td>NaN</td>\n",
       "      <td>3.0</td>\n",
       "      <td>NaN</td>\n",
       "    </tr>\n",
       "  </tbody>\n",
       "</table>\n",
       "</div>"
      ],
      "text/plain": [
       "    langauges  rating use-case\n",
       "1      python     5.0       ML\n",
       "2        java     3.0  Fintech\n",
       "3           R     4.0  Webapps\n",
       "4  javascript     NaN      IOT\n",
       "5         c++     5.0      NaN\n",
       "6        bash     3.0  Systems\n",
       "7   vimscript     4.0      CLI\n",
       "4         NaN     3.0      NaN"
      ]
     },
     "execution_count": 113,
     "metadata": {},
     "output_type": "execute_result"
    }
   ],
   "source": [
    "df4"
   ]
  },
  {
   "cell_type": "code",
   "execution_count": 114,
   "id": "5173bb91",
   "metadata": {},
   "outputs": [
    {
     "data": {
      "text/html": [
       "<div>\n",
       "<style scoped>\n",
       "    .dataframe tbody tr th:only-of-type {\n",
       "        vertical-align: middle;\n",
       "    }\n",
       "\n",
       "    .dataframe tbody tr th {\n",
       "        vertical-align: top;\n",
       "    }\n",
       "\n",
       "    .dataframe thead th {\n",
       "        text-align: right;\n",
       "    }\n",
       "</style>\n",
       "<table border=\"1\" class=\"dataframe\">\n",
       "  <thead>\n",
       "    <tr style=\"text-align: right;\">\n",
       "      <th></th>\n",
       "      <th>langauges</th>\n",
       "      <th>rating</th>\n",
       "      <th>use-case</th>\n",
       "    </tr>\n",
       "  </thead>\n",
       "  <tbody>\n",
       "    <tr>\n",
       "      <th>1</th>\n",
       "      <td>python</td>\n",
       "      <td>5.0</td>\n",
       "      <td>ML</td>\n",
       "    </tr>\n",
       "    <tr>\n",
       "      <th>2</th>\n",
       "      <td>java</td>\n",
       "      <td>3.0</td>\n",
       "      <td>Fintech</td>\n",
       "    </tr>\n",
       "    <tr>\n",
       "      <th>3</th>\n",
       "      <td>R</td>\n",
       "      <td>4.0</td>\n",
       "      <td>Webapps</td>\n",
       "    </tr>\n",
       "    <tr>\n",
       "      <th>6</th>\n",
       "      <td>bash</td>\n",
       "      <td>3.0</td>\n",
       "      <td>Systems</td>\n",
       "    </tr>\n",
       "    <tr>\n",
       "      <th>7</th>\n",
       "      <td>vimscript</td>\n",
       "      <td>4.0</td>\n",
       "      <td>CLI</td>\n",
       "    </tr>\n",
       "  </tbody>\n",
       "</table>\n",
       "</div>"
      ],
      "text/plain": [
       "   langauges  rating use-case\n",
       "1     python     5.0       ML\n",
       "2       java     3.0  Fintech\n",
       "3          R     4.0  Webapps\n",
       "6       bash     3.0  Systems\n",
       "7  vimscript     4.0      CLI"
      ]
     },
     "execution_count": 114,
     "metadata": {},
     "output_type": "execute_result"
    }
   ],
   "source": [
    "#dropping null values \n",
    "df4.dropna(how='any')"
   ]
  },
  {
   "cell_type": "code",
   "execution_count": 117,
   "id": "9da4413c",
   "metadata": {},
   "outputs": [
    {
     "data": {
      "text/plain": [
       "1    5.000000\n",
       "2    3.000000\n",
       "3    4.000000\n",
       "4    3.857143\n",
       "5    5.000000\n",
       "6    3.000000\n",
       "7    4.000000\n",
       "4    3.000000\n",
       "Name: rating, dtype: float64"
      ]
     },
     "execution_count": 117,
     "metadata": {},
     "output_type": "execute_result"
    }
   ],
   "source": [
    "#filling the columns with mean values \n",
    "mean_rating = df4['rating'].mean()\n",
    "df4['rating'].fillna(mean_rating)"
   ]
  },
  {
   "cell_type": "markdown",
   "id": "b6747cbd",
   "metadata": {},
   "source": [
    "## Dataframe File Operations"
   ]
  },
  {
   "cell_type": "code",
   "execution_count": 119,
   "id": "7f138bfb",
   "metadata": {},
   "outputs": [],
   "source": [
    "df4.to_csv('data.csv')"
   ]
  },
  {
   "cell_type": "code",
   "execution_count": 120,
   "id": "3fa7a4cc",
   "metadata": {},
   "outputs": [],
   "source": [
    "df_animal = pd.read_csv('data.csv')"
   ]
  },
  {
   "cell_type": "code",
   "execution_count": 122,
   "id": "47eb0484",
   "metadata": {},
   "outputs": [
    {
     "data": {
      "text/html": [
       "<div>\n",
       "<style scoped>\n",
       "    .dataframe tbody tr th:only-of-type {\n",
       "        vertical-align: middle;\n",
       "    }\n",
       "\n",
       "    .dataframe tbody tr th {\n",
       "        vertical-align: top;\n",
       "    }\n",
       "\n",
       "    .dataframe thead th {\n",
       "        text-align: right;\n",
       "    }\n",
       "</style>\n",
       "<table border=\"1\" class=\"dataframe\">\n",
       "  <thead>\n",
       "    <tr style=\"text-align: right;\">\n",
       "      <th></th>\n",
       "      <th>Unnamed: 0</th>\n",
       "      <th>langauges</th>\n",
       "      <th>rating</th>\n",
       "      <th>use-case</th>\n",
       "    </tr>\n",
       "  </thead>\n",
       "  <tbody>\n",
       "    <tr>\n",
       "      <th>0</th>\n",
       "      <td>1</td>\n",
       "      <td>python</td>\n",
       "      <td>5.0</td>\n",
       "      <td>ML</td>\n",
       "    </tr>\n",
       "    <tr>\n",
       "      <th>1</th>\n",
       "      <td>2</td>\n",
       "      <td>java</td>\n",
       "      <td>3.0</td>\n",
       "      <td>Fintech</td>\n",
       "    </tr>\n",
       "    <tr>\n",
       "      <th>2</th>\n",
       "      <td>3</td>\n",
       "      <td>R</td>\n",
       "      <td>4.0</td>\n",
       "      <td>Webapps</td>\n",
       "    </tr>\n",
       "    <tr>\n",
       "      <th>3</th>\n",
       "      <td>4</td>\n",
       "      <td>javascript</td>\n",
       "      <td>NaN</td>\n",
       "      <td>IOT</td>\n",
       "    </tr>\n",
       "    <tr>\n",
       "      <th>4</th>\n",
       "      <td>5</td>\n",
       "      <td>c++</td>\n",
       "      <td>5.0</td>\n",
       "      <td>NaN</td>\n",
       "    </tr>\n",
       "  </tbody>\n",
       "</table>\n",
       "</div>"
      ],
      "text/plain": [
       "   Unnamed: 0   langauges  rating use-case\n",
       "0           1      python     5.0       ML\n",
       "1           2        java     3.0  Fintech\n",
       "2           3           R     4.0  Webapps\n",
       "3           4  javascript     NaN      IOT\n",
       "4           5         c++     5.0      NaN"
      ]
     },
     "execution_count": 122,
     "metadata": {},
     "output_type": "execute_result"
    }
   ],
   "source": [
    "df_animal.head()"
   ]
  },
  {
   "cell_type": "code",
   "execution_count": 124,
   "id": "2364872d",
   "metadata": {},
   "outputs": [],
   "source": [
    "df4.to_excel('data.xlsx', sheet_name=\"sheet 1\")"
   ]
  },
  {
   "cell_type": "markdown",
   "id": "24ff113e",
   "metadata": {},
   "source": [
    "## Visuallization in pandas"
   ]
  },
  {
   "cell_type": "code",
   "execution_count": 126,
   "id": "c0e39a3a",
   "metadata": {},
   "outputs": [],
   "source": [
    "#series and dataframe line chart\n",
    "import numpy as np\n",
    "%matplotlib inline\n",
    "\n",
    "\n",
    "ts = pd.Series(np.random.randn(50), index=pd.date_range('today', periods=50))"
   ]
  },
  {
   "cell_type": "code",
   "execution_count": 127,
   "id": "7a3736e7",
   "metadata": {},
   "outputs": [
    {
     "data": {
      "text/plain": [
       "<Axes: >"
      ]
     },
     "execution_count": 127,
     "metadata": {},
     "output_type": "execute_result"
    },
    {
     "data": {
      "image/png": "[encoded data removed]",
      "text/plain": [
       "<Figure size 640x480 with 1 Axes>"
      ]
     },
     "metadata": {},
     "output_type": "display_data"
    }
   ],
   "source": [
    "ts.plot()"
   ]
  },
  {
   "cell_type": "code",
   "execution_count": 128,
   "id": "8d314ff0",
   "metadata": {},
   "outputs": [],
   "source": [
    "df = pd.DataFrame(np.random.randn(50,4), index=ts.index, columns=['A', 'B', 'C', 'D'])"
   ]
  },
  {
   "cell_type": "code",
   "execution_count": 131,
   "id": "6c020ad2",
   "metadata": {},
   "outputs": [
    {
     "data": {
      "text/plain": [
       "<Axes: >"
      ]
     },
     "execution_count": 131,
     "metadata": {},
     "output_type": "execute_result"
    },
    {
     "data": {
      "image/png": "[encoded data removed]",
      "text/plain": [
       "<Figure size 640x480 with 1 Axes>"
      ]
     },
     "metadata": {},
     "output_type": "display_data"
    }
   ],
   "source": [
    "df.plot()"
   ]
  },
  {
   "cell_type": "markdown",
   "id": "082aee61",
   "metadata": {},
   "source": [
    "## Removing Repeated Data with pandas"
   ]
  },
  {
   "cell_type": "code",
   "execution_count": 136,
   "id": "09cf4dee",
   "metadata": {},
   "outputs": [
    {
     "data": {
      "text/html": [
       "<div>\n",
       "<style scoped>\n",
       "    .dataframe tbody tr th:only-of-type {\n",
       "        vertical-align: middle;\n",
       "    }\n",
       "\n",
       "    .dataframe tbody tr th {\n",
       "        vertical-align: top;\n",
       "    }\n",
       "\n",
       "    .dataframe thead th {\n",
       "        text-align: right;\n",
       "    }\n",
       "</style>\n",
       "<table border=\"1\" class=\"dataframe\">\n",
       "  <thead>\n",
       "    <tr style=\"text-align: right;\">\n",
       "      <th></th>\n",
       "      <th>A</th>\n",
       "    </tr>\n",
       "  </thead>\n",
       "  <tbody>\n",
       "    <tr>\n",
       "      <th>0</th>\n",
       "      <td>1</td>\n",
       "    </tr>\n",
       "    <tr>\n",
       "      <th>1</th>\n",
       "      <td>2</td>\n",
       "    </tr>\n",
       "    <tr>\n",
       "      <th>2</th>\n",
       "      <td>3</td>\n",
       "    </tr>\n",
       "    <tr>\n",
       "      <th>3</th>\n",
       "      <td>4</td>\n",
       "    </tr>\n",
       "    <tr>\n",
       "      <th>6</th>\n",
       "      <td>5</td>\n",
       "    </tr>\n",
       "    <tr>\n",
       "      <th>7</th>\n",
       "      <td>6</td>\n",
       "    </tr>\n",
       "    <tr>\n",
       "      <th>9</th>\n",
       "      <td>7</td>\n",
       "    </tr>\n",
       "    <tr>\n",
       "      <th>10</th>\n",
       "      <td>8</td>\n",
       "    </tr>\n",
       "    <tr>\n",
       "      <th>11</th>\n",
       "      <td>9</td>\n",
       "    </tr>\n",
       "    <tr>\n",
       "      <th>15</th>\n",
       "      <td>10</td>\n",
       "    </tr>\n",
       "    <tr>\n",
       "      <th>17</th>\n",
       "      <td>11</td>\n",
       "    </tr>\n",
       "  </tbody>\n",
       "</table>\n",
       "</div>"
      ],
      "text/plain": [
       "     A\n",
       "0    1\n",
       "1    2\n",
       "2    3\n",
       "3    4\n",
       "6    5\n",
       "7    6\n",
       "9    7\n",
       "10   8\n",
       "11   9\n",
       "15  10\n",
       "17  11"
      ]
     },
     "execution_count": 136,
     "metadata": {},
     "output_type": "execute_result"
    }
   ],
   "source": [
    "df = pd.DataFrame({ 'A' : [1,2,3,4,4,4,5,6,6,7,8,9,9,9,9,10,10,11]})\n",
    "df.loc[ df['A'].shift() != df['A'] ]"
   ]
  },
  {
   "cell_type": "code",
   "execution_count": null,
   "id": "90e59c73",
   "metadata": {},
   "outputs": [],
   "source": []
  }
 ],
 "metadata": {
  "kernelspec": {
   "display_name": "Python 3 (ipykernel)",
   "language": "python",
   "name": "python3"
  },
  "language_info": {
   "codemirror_mode": {
    "name": "ipython",
    "version": 3
   },
   "file_extension": ".py",
   "mimetype": "text/x-python",
   "name": "python",
   "nbconvert_exporter": "python",
   "pygments_lexer": "ipython3",
   "version": "3.11.4"
  }
 },
 "nbformat": 4,
 "nbformat_minor": 5
}
