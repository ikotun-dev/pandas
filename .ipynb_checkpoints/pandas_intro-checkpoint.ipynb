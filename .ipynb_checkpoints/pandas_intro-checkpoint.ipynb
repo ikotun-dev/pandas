{
 "cells": [
  {
   "cell_type": "code",
   "execution_count": 1,
   "id": "b82a9b92",
   "metadata": {},
   "outputs": [],
   "source": [
    "import pandas as pd"
   ]
  },
  {
   "cell_type": "code",
   "execution_count": 2,
   "id": "e16e544e",
   "metadata": {},
   "outputs": [
    {
     "name": "stdout",
     "output_type": "stream",
     "text": [
      "1.5.3\n"
     ]
    }
   ],
   "source": [
    "#check pandas version\n",
    "print(pd.__version__)"
   ]
  },
  {
   "cell_type": "markdown",
   "id": "57b8f566",
   "metadata": {},
   "source": [
    "##### series in pandas \n",
    "##### create, manipulate, query, delete "
   ]
  },
  {
   "cell_type": "code",
   "execution_count": 3,
   "id": "7ccf31d2",
   "metadata": {},
   "outputs": [],
   "source": [
    "arr = [0,1,2,3,4]\n",
    "s1 = pd.Series(arr)"
   ]
  },
  {
   "cell_type": "code",
   "execution_count": 4,
   "id": "9b460d72",
   "metadata": {},
   "outputs": [
    {
     "data": {
      "text/plain": [
       "0    0\n",
       "1    1\n",
       "2    2\n",
       "3    3\n",
       "4    4\n",
       "dtype: int64"
      ]
     },
     "execution_count": 4,
     "metadata": {},
     "output_type": "execute_result"
    }
   ],
   "source": [
    "s1"
   ]
  },
  {
   "cell_type": "code",
   "execution_count": 5,
   "id": "65a1229e",
   "metadata": {},
   "outputs": [],
   "source": [
    "  import numpy as np\n",
    "n = np.random.randn(5) #create a random numpy array "
   ]
  },
  {
   "cell_type": "code",
   "execution_count": 7,
   "id": "3c6838b8",
   "metadata": {},
   "outputs": [],
   "source": [
    "index = ['a', 'b', 'c', 'd', 'e']"
   ]
  },
  {
   "cell_type": "code",
   "execution_count": 9,
   "id": "c3432da9",
   "metadata": {},
   "outputs": [
    {
     "data": {
      "text/plain": [
       "a   -1.530338\n",
       "b    1.373018\n",
       "c   -1.402829\n",
       "d    1.221852\n",
       "e    2.190515\n",
       "dtype: float64"
      ]
     },
     "execution_count": 9,
     "metadata": {},
     "output_type": "execute_result"
    }
   ],
   "source": [
    "s2 = pd.Series(n, index=index)\n",
    "s2"
   ]
  },
  {
   "cell_type": "code",
   "execution_count": 10,
   "id": "1183c585",
   "metadata": {},
   "outputs": [],
   "source": [
    "#series from a dictionary\n",
    "d = {'a':1,'b':2,'c':3,'d':4,'e':5}"
   ]
  },
  {
   "cell_type": "code",
   "execution_count": 15,
   "id": "736b0524",
   "metadata": {},
   "outputs": [
    {
     "data": {
      "text/plain": [
       "pandas.core.series.Series"
      ]
     },
     "execution_count": 15,
     "metadata": {},
     "output_type": "execute_result"
    }
   ],
   "source": [
    " s4 = pd.Series(d)\n",
    " type(s4)"
   ]
  },
  {
   "cell_type": "code",
   "execution_count": 18,
   "id": "f3dae83b",
   "metadata": {},
   "outputs": [
    {
     "data": {
      "text/plain": [
       "a    1\n",
       "b    2\n",
       "c    3\n",
       "dtype: int64"
      ]
     },
     "execution_count": 18,
     "metadata": {},
     "output_type": "execute_result"
    }
   ],
   "source": [
    "#slicing \n",
    "s4[:-2]"
   ]
  },
  {
   "cell_type": "code",
   "execution_count": 24,
   "id": "f53189ce",
   "metadata": {},
   "outputs": [],
   "source": [
    "arr = [0,1,2,3,4]\n",
    "s6 = arr.append(s4)"
   ]
  },
  {
   "cell_type": "code",
   "execution_count": 25,
   "id": "23dde839",
   "metadata": {},
   "outputs": [
    {
     "name": "stdout",
     "output_type": "stream",
     "text": [
      "None\n"
     ]
    }
   ],
   "source": [
    "print(s6)"
   ]
  },
  {
   "cell_type": "code",
   "execution_count": 29,
   "id": "2c93c412",
   "metadata": {},
   "outputs": [
    {
     "name": "stdout",
     "output_type": "stream",
     "text": [
      "median 3.0\n",
      "max 5\n"
     ]
    }
   ],
   "source": [
    "print('median',s4.median())\n",
    "print('max', s4.max())"
   ]
  },
  {
   "cell_type": "markdown",
   "id": "4de024ef",
   "metadata": {},
   "source": [
    "##### creating a dataframe"
   ]
  },
  {
   "cell_type": "code",
   "execution_count": 41,
   "id": "fc328423",
   "metadata": {},
   "outputs": [],
   "source": [
    "dates = pd.date_range('today', periods=6) #pandas date\n",
    "num_array = np.random.randn(6,4)\n",
    "num_array_2 = num_array.astype('int32')\n",
    "columns = ['A', 'B', 'C', 'D']"
   ]
  },
  {
   "cell_type": "code",
   "execution_count": 42,
   "id": "ca90f8b0",
   "metadata": {},
   "outputs": [],
   "source": [
    "#create dataframe\n",
    "df1 = pd.DataFrame(num_array, index=dates, columns=columns)"
   ]
  },
  {
   "cell_type": "code",
   "execution_count": 43,
   "id": "88e3fc9e",
   "metadata": {},
   "outputs": [
    {
     "data": {
      "text/html": [
       "<div>\n",
       "<style scoped>\n",
       "    .dataframe tbody tr th:only-of-type {\n",
       "        vertical-align: middle;\n",
       "    }\n",
       "\n",
       "    .dataframe tbody tr th {\n",
       "        vertical-align: top;\n",
       "    }\n",
       "\n",
       "    .dataframe thead th {\n",
       "        text-align: right;\n",
       "    }\n",
       "</style>\n",
       "<table border=\"1\" class=\"dataframe\">\n",
       "  <thead>\n",
       "    <tr style=\"text-align: right;\">\n",
       "      <th></th>\n",
       "      <th>A</th>\n",
       "      <th>B</th>\n",
       "      <th>C</th>\n",
       "      <th>D</th>\n",
       "    </tr>\n",
       "  </thead>\n",
       "  <tbody>\n",
       "    <tr>\n",
       "      <th>2023-08-18 21:50:34.214875</th>\n",
       "      <td>0.192474</td>\n",
       "      <td>0.452427</td>\n",
       "      <td>0.863627</td>\n",
       "      <td>-1.464000</td>\n",
       "    </tr>\n",
       "    <tr>\n",
       "      <th>2023-08-19 21:50:34.214875</th>\n",
       "      <td>-0.440656</td>\n",
       "      <td>-0.116781</td>\n",
       "      <td>-0.682516</td>\n",
       "      <td>0.076852</td>\n",
       "    </tr>\n",
       "    <tr>\n",
       "      <th>2023-08-20 21:50:34.214875</th>\n",
       "      <td>-0.607798</td>\n",
       "      <td>-0.267647</td>\n",
       "      <td>-0.828164</td>\n",
       "      <td>-0.914946</td>\n",
       "    </tr>\n",
       "    <tr>\n",
       "      <th>2023-08-21 21:50:34.214875</th>\n",
       "      <td>-0.243717</td>\n",
       "      <td>-0.184601</td>\n",
       "      <td>1.108179</td>\n",
       "      <td>0.763748</td>\n",
       "    </tr>\n",
       "    <tr>\n",
       "      <th>2023-08-22 21:50:34.214875</th>\n",
       "      <td>-1.965855</td>\n",
       "      <td>1.208046</td>\n",
       "      <td>-0.993770</td>\n",
       "      <td>-1.447776</td>\n",
       "    </tr>\n",
       "    <tr>\n",
       "      <th>2023-08-23 21:50:34.214875</th>\n",
       "      <td>-0.789403</td>\n",
       "      <td>-0.259888</td>\n",
       "      <td>-1.109478</td>\n",
       "      <td>0.025464</td>\n",
       "    </tr>\n",
       "  </tbody>\n",
       "</table>\n",
       "</div>"
      ],
      "text/plain": [
       "                                   A         B         C         D\n",
       "2023-08-18 21:50:34.214875  0.192474  0.452427  0.863627 -1.464000\n",
       "2023-08-19 21:50:34.214875 -0.440656 -0.116781 -0.682516  0.076852\n",
       "2023-08-20 21:50:34.214875 -0.607798 -0.267647 -0.828164 -0.914946\n",
       "2023-08-21 21:50:34.214875 -0.243717 -0.184601  1.108179  0.763748\n",
       "2023-08-22 21:50:34.214875 -1.965855  1.208046 -0.993770 -1.447776\n",
       "2023-08-23 21:50:34.214875 -0.789403 -0.259888 -1.109478  0.025464"
      ]
     },
     "execution_count": 43,
     "metadata": {},
     "output_type": "execute_result"
    }
   ],
   "source": [
    "df1"
   ]
  },
  {
   "cell_type": "code",
   "execution_count": 48,
   "id": "6acd44b8",
   "metadata": {},
   "outputs": [],
   "source": [
    "data = {'langauges' : ['python', 'java', 'javascript', 'c++', 'bash', 'vimscript'],\n",
    "       'rating' : [5,3,4,5,3,4],\n",
    "       'use-case' : ['ML', 'Fintech', 'Webapps', 'IOT', 'Systems', 'CLI']}\n",
    "indexes = [1,2,3,4,5,6]\n",
    "df2 = pd.DataFrame(data, index=indexes)"
   ]
  },
  {
   "cell_type": "code",
   "execution_count": 46,
   "id": "54221bf6",
   "metadata": {},
   "outputs": [
    {
     "data": {
      "text/html": [
       "<div>\n",
       "<style scoped>\n",
       "    .dataframe tbody tr th:only-of-type {\n",
       "        vertical-align: middle;\n",
       "    }\n",
       "\n",
       "    .dataframe tbody tr th {\n",
       "        vertical-align: top;\n",
       "    }\n",
       "\n",
       "    .dataframe thead th {\n",
       "        text-align: right;\n",
       "    }\n",
       "</style>\n",
       "<table border=\"1\" class=\"dataframe\">\n",
       "  <thead>\n",
       "    <tr style=\"text-align: right;\">\n",
       "      <th></th>\n",
       "      <th>langauges</th>\n",
       "      <th>rating</th>\n",
       "      <th>use-case</th>\n",
       "    </tr>\n",
       "  </thead>\n",
       "  <tbody>\n",
       "    <tr>\n",
       "      <th>1</th>\n",
       "      <td>python</td>\n",
       "      <td>5</td>\n",
       "      <td>ML</td>\n",
       "    </tr>\n",
       "    <tr>\n",
       "      <th>2</th>\n",
       "      <td>java</td>\n",
       "      <td>3</td>\n",
       "      <td>Fintech</td>\n",
       "    </tr>\n",
       "    <tr>\n",
       "      <th>3</th>\n",
       "      <td>javascript</td>\n",
       "      <td>4</td>\n",
       "      <td>Webapps</td>\n",
       "    </tr>\n",
       "    <tr>\n",
       "      <th>4</th>\n",
       "      <td>c++</td>\n",
       "      <td>5</td>\n",
       "      <td>IOT</td>\n",
       "    </tr>\n",
       "    <tr>\n",
       "      <th>5</th>\n",
       "      <td>bash</td>\n",
       "      <td>3</td>\n",
       "      <td>Systems</td>\n",
       "    </tr>\n",
       "    <tr>\n",
       "      <th>6</th>\n",
       "      <td>vimscript</td>\n",
       "      <td>4</td>\n",
       "      <td>CLI</td>\n",
       "    </tr>\n",
       "  </tbody>\n",
       "</table>\n",
       "</div>"
      ],
      "text/plain": [
       "    langauges  rating use-case\n",
       "1      python       5       ML\n",
       "2        java       3  Fintech\n",
       "3  javascript       4  Webapps\n",
       "4         c++       5      IOT\n",
       "5        bash       3  Systems\n",
       "6   vimscript       4      CLI"
      ]
     },
     "execution_count": 46,
     "metadata": {},
     "output_type": "execute_result"
    }
   ],
   "source": [
    "df2"
   ]
  },
  {
   "cell_type": "code",
   "execution_count": 50,
   "id": "6c81e545",
   "metadata": {},
   "outputs": [
    {
     "data": {
      "text/plain": [
       "langauges    object\n",
       "rating        int64\n",
       "use-case     object\n",
       "dtype: object"
      ]
     },
     "execution_count": 50,
     "metadata": {},
     "output_type": "execute_result"
    }
   ],
   "source": [
    "#return datatypes\n",
    "df2.dtypes"
   ]
  },
  {
   "cell_type": "code",
   "execution_count": 52,
   "id": "9dd8bddd",
   "metadata": {},
   "outputs": [
    {
     "data": {
      "text/html": [
       "<div>\n",
       "<style scoped>\n",
       "    .dataframe tbody tr th:only-of-type {\n",
       "        vertical-align: middle;\n",
       "    }\n",
       "\n",
       "    .dataframe tbody tr th {\n",
       "        vertical-align: top;\n",
       "    }\n",
       "\n",
       "    .dataframe thead th {\n",
       "        text-align: right;\n",
       "    }\n",
       "</style>\n",
       "<table border=\"1\" class=\"dataframe\">\n",
       "  <thead>\n",
       "    <tr style=\"text-align: right;\">\n",
       "      <th></th>\n",
       "      <th>langauges</th>\n",
       "      <th>rating</th>\n",
       "      <th>use-case</th>\n",
       "    </tr>\n",
       "  </thead>\n",
       "  <tbody>\n",
       "    <tr>\n",
       "      <th>1</th>\n",
       "      <td>python</td>\n",
       "      <td>5</td>\n",
       "      <td>ML</td>\n",
       "    </tr>\n",
       "    <tr>\n",
       "      <th>2</th>\n",
       "      <td>java</td>\n",
       "      <td>3</td>\n",
       "      <td>Fintech</td>\n",
       "    </tr>\n",
       "    <tr>\n",
       "      <th>3</th>\n",
       "      <td>javascript</td>\n",
       "      <td>4</td>\n",
       "      <td>Webapps</td>\n",
       "    </tr>\n",
       "    <tr>\n",
       "      <th>4</th>\n",
       "      <td>c++</td>\n",
       "      <td>5</td>\n",
       "      <td>IOT</td>\n",
       "    </tr>\n",
       "    <tr>\n",
       "      <th>5</th>\n",
       "      <td>bash</td>\n",
       "      <td>3</td>\n",
       "      <td>Systems</td>\n",
       "    </tr>\n",
       "  </tbody>\n",
       "</table>\n",
       "</div>"
      ],
      "text/plain": [
       "    langauges  rating use-case\n",
       "1      python       5       ML\n",
       "2        java       3  Fintech\n",
       "3  javascript       4  Webapps\n",
       "4         c++       5      IOT\n",
       "5        bash       3  Systems"
      ]
     },
     "execution_count": 52,
     "metadata": {},
     "output_type": "execute_result"
    }
   ],
   "source": [
    "#return head of data\n",
    "df2.head()"
   ]
  },
  {
   "cell_type": "code",
   "execution_count": 55,
   "id": "1266d468",
   "metadata": {},
   "outputs": [
    {
     "data": {
      "text/plain": [
       "Int64Index([1, 2, 3, 4, 5, 6], dtype='int64')"
      ]
     },
     "execution_count": 55,
     "metadata": {},
     "output_type": "execute_result"
    }
   ],
   "source": [
    "df2.index"
   ]
  },
  {
   "cell_type": "code",
   "execution_count": 56,
   "id": "99303aa0",
   "metadata": {},
   "outputs": [
    {
     "data": {
      "text/plain": [
       "Index(['langauges', 'rating', 'use-case'], dtype='object')"
      ]
     },
     "execution_count": 56,
     "metadata": {},
     "output_type": "execute_result"
    }
   ],
   "source": [
    "df2.columns"
   ]
  },
  {
   "cell_type": "code",
   "execution_count": 58,
   "id": "b625f403",
   "metadata": {},
   "outputs": [
    {
     "data": {
      "text/plain": [
       "array([['python', 5, 'ML'],\n",
       "       ['java', 3, 'Fintech'],\n",
       "       ['javascript', 4, 'Webapps'],\n",
       "       ['c++', 5, 'IOT'],\n",
       "       ['bash', 3, 'Systems'],\n",
       "       ['vimscript', 4, 'CLI']], dtype=object)"
      ]
     },
     "execution_count": 58,
     "metadata": {},
     "output_type": "execute_result"
    }
   ],
   "source": [
    "df2.values"
   ]
  },
  {
   "cell_type": "code",
   "execution_count": 60,
   "id": "5200ff73",
   "metadata": {},
   "outputs": [
    {
     "data": {
      "text/html": [
       "<div>\n",
       "<style scoped>\n",
       "    .dataframe tbody tr th:only-of-type {\n",
       "        vertical-align: middle;\n",
       "    }\n",
       "\n",
       "    .dataframe tbody tr th {\n",
       "        vertical-align: top;\n",
       "    }\n",
       "\n",
       "    .dataframe thead th {\n",
       "        text-align: right;\n",
       "    }\n",
       "</style>\n",
       "<table border=\"1\" class=\"dataframe\">\n",
       "  <thead>\n",
       "    <tr style=\"text-align: right;\">\n",
       "      <th></th>\n",
       "      <th>rating</th>\n",
       "    </tr>\n",
       "  </thead>\n",
       "  <tbody>\n",
       "    <tr>\n",
       "      <th>count</th>\n",
       "      <td>6.000000</td>\n",
       "    </tr>\n",
       "    <tr>\n",
       "      <th>mean</th>\n",
       "      <td>4.000000</td>\n",
       "    </tr>\n",
       "    <tr>\n",
       "      <th>std</th>\n",
       "      <td>0.894427</td>\n",
       "    </tr>\n",
       "    <tr>\n",
       "      <th>min</th>\n",
       "      <td>3.000000</td>\n",
       "    </tr>\n",
       "    <tr>\n",
       "      <th>25%</th>\n",
       "      <td>3.250000</td>\n",
       "    </tr>\n",
       "    <tr>\n",
       "      <th>50%</th>\n",
       "      <td>4.000000</td>\n",
       "    </tr>\n",
       "    <tr>\n",
       "      <th>75%</th>\n",
       "      <td>4.750000</td>\n",
       "    </tr>\n",
       "    <tr>\n",
       "      <th>max</th>\n",
       "      <td>5.000000</td>\n",
       "    </tr>\n",
       "  </tbody>\n",
       "</table>\n",
       "</div>"
      ],
      "text/plain": [
       "         rating\n",
       "count  6.000000\n",
       "mean   4.000000\n",
       "std    0.894427\n",
       "min    3.000000\n",
       "25%    3.250000\n",
       "50%    4.000000\n",
       "75%    4.750000\n",
       "max    5.000000"
      ]
     },
     "execution_count": 60,
     "metadata": {},
     "output_type": "execute_result"
    }
   ],
   "source": [
    "df2.describe()"
   ]
  },
  {
   "cell_type": "code",
   "execution_count": 61,
   "id": "af7c95c0",
   "metadata": {},
   "outputs": [
    {
     "data": {
      "text/html": [
       "<div>\n",
       "<style scoped>\n",
       "    .dataframe tbody tr th:only-of-type {\n",
       "        vertical-align: middle;\n",
       "    }\n",
       "\n",
       "    .dataframe tbody tr th {\n",
       "        vertical-align: top;\n",
       "    }\n",
       "\n",
       "    .dataframe thead th {\n",
       "        text-align: right;\n",
       "    }\n",
       "</style>\n",
       "<table border=\"1\" class=\"dataframe\">\n",
       "  <thead>\n",
       "    <tr style=\"text-align: right;\">\n",
       "      <th></th>\n",
       "      <th>1</th>\n",
       "      <th>2</th>\n",
       "      <th>3</th>\n",
       "      <th>4</th>\n",
       "      <th>5</th>\n",
       "      <th>6</th>\n",
       "    </tr>\n",
       "  </thead>\n",
       "  <tbody>\n",
       "    <tr>\n",
       "      <th>langauges</th>\n",
       "      <td>python</td>\n",
       "      <td>java</td>\n",
       "      <td>javascript</td>\n",
       "      <td>c++</td>\n",
       "      <td>bash</td>\n",
       "      <td>vimscript</td>\n",
       "    </tr>\n",
       "    <tr>\n",
       "      <th>rating</th>\n",
       "      <td>5</td>\n",
       "      <td>3</td>\n",
       "      <td>4</td>\n",
       "      <td>5</td>\n",
       "      <td>3</td>\n",
       "      <td>4</td>\n",
       "    </tr>\n",
       "    <tr>\n",
       "      <th>use-case</th>\n",
       "      <td>ML</td>\n",
       "      <td>Fintech</td>\n",
       "      <td>Webapps</td>\n",
       "      <td>IOT</td>\n",
       "      <td>Systems</td>\n",
       "      <td>CLI</td>\n",
       "    </tr>\n",
       "  </tbody>\n",
       "</table>\n",
       "</div>"
      ],
      "text/plain": [
       "                1        2           3    4        5          6\n",
       "langauges  python     java  javascript  c++     bash  vimscript\n",
       "rating          5        3           4    5        3          4\n",
       "use-case       ML  Fintech     Webapps  IOT  Systems        CLI"
      ]
     },
     "execution_count": 61,
     "metadata": {},
     "output_type": "execute_result"
    }
   ],
   "source": [
    "#Transposing \n",
    "df2.T"
   ]
  },
  {
   "cell_type": "code",
   "execution_count": null,
   "id": "19f91c21",
   "metadata": {},
   "outputs": [],
   "source": []
  }
 ],
 "metadata": {
  "kernelspec": {
   "display_name": "Python 3 (ipykernel)",
   "language": "python",
   "name": "python3"
  },
  "language_info": {
   "codemirror_mode": {
    "name": "ipython",
    "version": 3
   },
   "file_extension": ".py",
   "mimetype": "text/x-python",
   "name": "python",
   "nbconvert_exporter": "python",
   "pygments_lexer": "ipython3",
   "version": "3.11.4"
  }
 },
 "nbformat": 4,
 "nbformat_minor": 5
}
